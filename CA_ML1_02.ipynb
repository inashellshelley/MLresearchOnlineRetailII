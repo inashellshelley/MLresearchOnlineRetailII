{
  "nbformat": 4,
  "nbformat_minor": 0,
  "metadata": {
    "colab": {
      "provenance": [],
      "authorship_tag": "ABX9TyMBkRDjJiJIv0jW9uvwcglM",
      "include_colab_link": true
    },
    "kernelspec": {
      "name": "python3",
      "display_name": "Python 3"
    },
    "language_info": {
      "name": "python"
    }
  },
  "cells": [
    {
      "cell_type": "markdown",
      "metadata": {
        "id": "view-in-github",
        "colab_type": "text"
      },
      "source": [
        "<a href=\"https://colab.research.google.com/github/inashellshelley/MLresearchOnlineRetailII/blob/main/CA_ML1_02.ipynb\" target=\"_parent\"><img src=\"https://colab.research.google.com/assets/colab-badge.svg\" alt=\"Open In Colab\"/></a>"
      ]
    },
    {
      "cell_type": "markdown",
      "source": [
        "**Applying Classifiers on Online Retail-II Dataset to understand the behavior of different models through metrics evaluation **"
      ],
      "metadata": {
        "id": "eS7EenwWGT26"
      }
    },
    {
      "cell_type": "markdown",
      "source": [
        "**ML CA RESEARCH PAPER** by\n",
        "Name: Shalini Guha\n",
        "Registration number: 12107495\n"
      ],
      "metadata": {
        "id": "r9aQOIFUF94t"
      }
    },
    {
      "cell_type": "code",
      "execution_count": null,
      "metadata": {
        "id": "M9CsHTO4AWlR"
      },
      "outputs": [],
      "source": [
        "import pandas as pd\n",
        "import numpy as np"
      ]
    },
    {
      "cell_type": "code",
      "source": [
        "df = pd.read_excel('/content/online_retail_II.xlsx')\n",
        "print(df)"
      ],
      "metadata": {
        "colab": {
          "base_uri": "https://localhost:8080/"
        },
        "id": "05avlE4VFSTV",
        "outputId": "06698c42-e27c-485a-e811-ccfbcf1e9dad"
      },
      "execution_count": null,
      "outputs": [
        {
          "output_type": "stream",
          "name": "stdout",
          "text": [
            "       Invoice StockCode                          Description  Quantity  \\\n",
            "0       489434     85048  15CM CHRISTMAS GLASS BALL 20 LIGHTS        12   \n",
            "1       489434    79323P                   PINK CHERRY LIGHTS        12   \n",
            "2       489434    79323W                  WHITE CHERRY LIGHTS        12   \n",
            "3       489434     22041         RECORD FRAME 7\" SINGLE SIZE         48   \n",
            "4       489434     21232       STRAWBERRY CERAMIC TRINKET BOX        24   \n",
            "...        ...       ...                                  ...       ...   \n",
            "525456  538171     22271                 FELTCRAFT DOLL ROSIE         2   \n",
            "525457  538171     22750         FELTCRAFT PRINCESS LOLA DOLL         1   \n",
            "525458  538171     22751       FELTCRAFT PRINCESS OLIVIA DOLL         1   \n",
            "525459  538171     20970   PINK FLORAL FELTCRAFT SHOULDER BAG         2   \n",
            "525460  538171     21931               JUMBO STORAGE BAG SUKI         2   \n",
            "\n",
            "               InvoiceDate  Price  Customer ID         Country  \n",
            "0      2009-12-01 07:45:00   6.95      13085.0  United Kingdom  \n",
            "1      2009-12-01 07:45:00   6.75      13085.0  United Kingdom  \n",
            "2      2009-12-01 07:45:00   6.75      13085.0  United Kingdom  \n",
            "3      2009-12-01 07:45:00   2.10      13085.0  United Kingdom  \n",
            "4      2009-12-01 07:45:00   1.25      13085.0  United Kingdom  \n",
            "...                    ...    ...          ...             ...  \n",
            "525456 2010-12-09 20:01:00   2.95      17530.0  United Kingdom  \n",
            "525457 2010-12-09 20:01:00   3.75      17530.0  United Kingdom  \n",
            "525458 2010-12-09 20:01:00   3.75      17530.0  United Kingdom  \n",
            "525459 2010-12-09 20:01:00   3.75      17530.0  United Kingdom  \n",
            "525460 2010-12-09 20:01:00   1.95      17530.0  United Kingdom  \n",
            "\n",
            "[525461 rows x 8 columns]\n"
          ]
        }
      ]
    },
    {
      "cell_type": "code",
      "source": [
        "df.shape"
      ],
      "metadata": {
        "colab": {
          "base_uri": "https://localhost:8080/"
        },
        "id": "EKVsW51kAq8c",
        "outputId": "1f665f09-8287-45c0-9ee3-920c52f7d869"
      },
      "execution_count": null,
      "outputs": [
        {
          "output_type": "execute_result",
          "data": {
            "text/plain": [
              "(525461, 8)"
            ]
          },
          "metadata": {},
          "execution_count": 3
        }
      ]
    },
    {
      "cell_type": "code",
      "source": [
        "df.size"
      ],
      "metadata": {
        "colab": {
          "base_uri": "https://localhost:8080/"
        },
        "id": "35wtaHjJmxHY",
        "outputId": "dab15189-021b-44ff-a35d-b3012fe3473e"
      },
      "execution_count": null,
      "outputs": [
        {
          "output_type": "execute_result",
          "data": {
            "text/plain": [
              "4203688"
            ]
          },
          "metadata": {},
          "execution_count": 4
        }
      ]
    },
    {
      "cell_type": "code",
      "source": [
        "df.head()"
      ],
      "metadata": {
        "colab": {
          "base_uri": "https://localhost:8080/",
          "height": 206
        },
        "id": "pmIZ_VDnA1pS",
        "outputId": "1336e4d8-80e6-4514-f700-532166fe73d7"
      },
      "execution_count": null,
      "outputs": [
        {
          "output_type": "execute_result",
          "data": {
            "text/plain": [
              "  Invoice StockCode                          Description  Quantity  \\\n",
              "0  489434     85048  15CM CHRISTMAS GLASS BALL 20 LIGHTS        12   \n",
              "1  489434    79323P                   PINK CHERRY LIGHTS        12   \n",
              "2  489434    79323W                  WHITE CHERRY LIGHTS        12   \n",
              "3  489434     22041         RECORD FRAME 7\" SINGLE SIZE         48   \n",
              "4  489434     21232       STRAWBERRY CERAMIC TRINKET BOX        24   \n",
              "\n",
              "          InvoiceDate  Price  Customer ID         Country  \n",
              "0 2009-12-01 07:45:00   6.95      13085.0  United Kingdom  \n",
              "1 2009-12-01 07:45:00   6.75      13085.0  United Kingdom  \n",
              "2 2009-12-01 07:45:00   6.75      13085.0  United Kingdom  \n",
              "3 2009-12-01 07:45:00   2.10      13085.0  United Kingdom  \n",
              "4 2009-12-01 07:45:00   1.25      13085.0  United Kingdom  "
            ],
            "text/html": [
              "\n",
              "  <div id=\"df-716422d2-36ed-40b1-95db-91329cc74be4\" class=\"colab-df-container\">\n",
              "    <div>\n",
              "<style scoped>\n",
              "    .dataframe tbody tr th:only-of-type {\n",
              "        vertical-align: middle;\n",
              "    }\n",
              "\n",
              "    .dataframe tbody tr th {\n",
              "        vertical-align: top;\n",
              "    }\n",
              "\n",
              "    .dataframe thead th {\n",
              "        text-align: right;\n",
              "    }\n",
              "</style>\n",
              "<table border=\"1\" class=\"dataframe\">\n",
              "  <thead>\n",
              "    <tr style=\"text-align: right;\">\n",
              "      <th></th>\n",
              "      <th>Invoice</th>\n",
              "      <th>StockCode</th>\n",
              "      <th>Description</th>\n",
              "      <th>Quantity</th>\n",
              "      <th>InvoiceDate</th>\n",
              "      <th>Price</th>\n",
              "      <th>Customer ID</th>\n",
              "      <th>Country</th>\n",
              "    </tr>\n",
              "  </thead>\n",
              "  <tbody>\n",
              "    <tr>\n",
              "      <th>0</th>\n",
              "      <td>489434</td>\n",
              "      <td>85048</td>\n",
              "      <td>15CM CHRISTMAS GLASS BALL 20 LIGHTS</td>\n",
              "      <td>12</td>\n",
              "      <td>2009-12-01 07:45:00</td>\n",
              "      <td>6.95</td>\n",
              "      <td>13085.0</td>\n",
              "      <td>United Kingdom</td>\n",
              "    </tr>\n",
              "    <tr>\n",
              "      <th>1</th>\n",
              "      <td>489434</td>\n",
              "      <td>79323P</td>\n",
              "      <td>PINK CHERRY LIGHTS</td>\n",
              "      <td>12</td>\n",
              "      <td>2009-12-01 07:45:00</td>\n",
              "      <td>6.75</td>\n",
              "      <td>13085.0</td>\n",
              "      <td>United Kingdom</td>\n",
              "    </tr>\n",
              "    <tr>\n",
              "      <th>2</th>\n",
              "      <td>489434</td>\n",
              "      <td>79323W</td>\n",
              "      <td>WHITE CHERRY LIGHTS</td>\n",
              "      <td>12</td>\n",
              "      <td>2009-12-01 07:45:00</td>\n",
              "      <td>6.75</td>\n",
              "      <td>13085.0</td>\n",
              "      <td>United Kingdom</td>\n",
              "    </tr>\n",
              "    <tr>\n",
              "      <th>3</th>\n",
              "      <td>489434</td>\n",
              "      <td>22041</td>\n",
              "      <td>RECORD FRAME 7\" SINGLE SIZE</td>\n",
              "      <td>48</td>\n",
              "      <td>2009-12-01 07:45:00</td>\n",
              "      <td>2.10</td>\n",
              "      <td>13085.0</td>\n",
              "      <td>United Kingdom</td>\n",
              "    </tr>\n",
              "    <tr>\n",
              "      <th>4</th>\n",
              "      <td>489434</td>\n",
              "      <td>21232</td>\n",
              "      <td>STRAWBERRY CERAMIC TRINKET BOX</td>\n",
              "      <td>24</td>\n",
              "      <td>2009-12-01 07:45:00</td>\n",
              "      <td>1.25</td>\n",
              "      <td>13085.0</td>\n",
              "      <td>United Kingdom</td>\n",
              "    </tr>\n",
              "  </tbody>\n",
              "</table>\n",
              "</div>\n",
              "    <div class=\"colab-df-buttons\">\n",
              "\n",
              "  <div class=\"colab-df-container\">\n",
              "    <button class=\"colab-df-convert\" onclick=\"convertToInteractive('df-716422d2-36ed-40b1-95db-91329cc74be4')\"\n",
              "            title=\"Convert this dataframe to an interactive table.\"\n",
              "            style=\"display:none;\">\n",
              "\n",
              "  <svg xmlns=\"http://www.w3.org/2000/svg\" height=\"24px\" viewBox=\"0 -960 960 960\">\n",
              "    <path d=\"M120-120v-720h720v720H120Zm60-500h600v-160H180v160Zm220 220h160v-160H400v160Zm0 220h160v-160H400v160ZM180-400h160v-160H180v160Zm440 0h160v-160H620v160ZM180-180h160v-160H180v160Zm440 0h160v-160H620v160Z\"/>\n",
              "  </svg>\n",
              "    </button>\n",
              "\n",
              "  <style>\n",
              "    .colab-df-container {\n",
              "      display:flex;\n",
              "      gap: 12px;\n",
              "    }\n",
              "\n",
              "    .colab-df-convert {\n",
              "      background-color: #E8F0FE;\n",
              "      border: none;\n",
              "      border-radius: 50%;\n",
              "      cursor: pointer;\n",
              "      display: none;\n",
              "      fill: #1967D2;\n",
              "      height: 32px;\n",
              "      padding: 0 0 0 0;\n",
              "      width: 32px;\n",
              "    }\n",
              "\n",
              "    .colab-df-convert:hover {\n",
              "      background-color: #E2EBFA;\n",
              "      box-shadow: 0px 1px 2px rgba(60, 64, 67, 0.3), 0px 1px 3px 1px rgba(60, 64, 67, 0.15);\n",
              "      fill: #174EA6;\n",
              "    }\n",
              "\n",
              "    .colab-df-buttons div {\n",
              "      margin-bottom: 4px;\n",
              "    }\n",
              "\n",
              "    [theme=dark] .colab-df-convert {\n",
              "      background-color: #3B4455;\n",
              "      fill: #D2E3FC;\n",
              "    }\n",
              "\n",
              "    [theme=dark] .colab-df-convert:hover {\n",
              "      background-color: #434B5C;\n",
              "      box-shadow: 0px 1px 3px 1px rgba(0, 0, 0, 0.15);\n",
              "      filter: drop-shadow(0px 1px 2px rgba(0, 0, 0, 0.3));\n",
              "      fill: #FFFFFF;\n",
              "    }\n",
              "  </style>\n",
              "\n",
              "    <script>\n",
              "      const buttonEl =\n",
              "        document.querySelector('#df-716422d2-36ed-40b1-95db-91329cc74be4 button.colab-df-convert');\n",
              "      buttonEl.style.display =\n",
              "        google.colab.kernel.accessAllowed ? 'block' : 'none';\n",
              "\n",
              "      async function convertToInteractive(key) {\n",
              "        const element = document.querySelector('#df-716422d2-36ed-40b1-95db-91329cc74be4');\n",
              "        const dataTable =\n",
              "          await google.colab.kernel.invokeFunction('convertToInteractive',\n",
              "                                                    [key], {});\n",
              "        if (!dataTable) return;\n",
              "\n",
              "        const docLinkHtml = 'Like what you see? Visit the ' +\n",
              "          '<a target=\"_blank\" href=https://colab.research.google.com/notebooks/data_table.ipynb>data table notebook</a>'\n",
              "          + ' to learn more about interactive tables.';\n",
              "        element.innerHTML = '';\n",
              "        dataTable['output_type'] = 'display_data';\n",
              "        await google.colab.output.renderOutput(dataTable, element);\n",
              "        const docLink = document.createElement('div');\n",
              "        docLink.innerHTML = docLinkHtml;\n",
              "        element.appendChild(docLink);\n",
              "      }\n",
              "    </script>\n",
              "  </div>\n",
              "\n",
              "\n",
              "<div id=\"df-00e08add-213c-4b3a-ba4b-886978c57d83\">\n",
              "  <button class=\"colab-df-quickchart\" onclick=\"quickchart('df-00e08add-213c-4b3a-ba4b-886978c57d83')\"\n",
              "            title=\"Suggest charts\"\n",
              "            style=\"display:none;\">\n",
              "\n",
              "<svg xmlns=\"http://www.w3.org/2000/svg\" height=\"24px\"viewBox=\"0 0 24 24\"\n",
              "     width=\"24px\">\n",
              "    <g>\n",
              "        <path d=\"M19 3H5c-1.1 0-2 .9-2 2v14c0 1.1.9 2 2 2h14c1.1 0 2-.9 2-2V5c0-1.1-.9-2-2-2zM9 17H7v-7h2v7zm4 0h-2V7h2v10zm4 0h-2v-4h2v4z\"/>\n",
              "    </g>\n",
              "</svg>\n",
              "  </button>\n",
              "\n",
              "<style>\n",
              "  .colab-df-quickchart {\n",
              "      --bg-color: #E8F0FE;\n",
              "      --fill-color: #1967D2;\n",
              "      --hover-bg-color: #E2EBFA;\n",
              "      --hover-fill-color: #174EA6;\n",
              "      --disabled-fill-color: #AAA;\n",
              "      --disabled-bg-color: #DDD;\n",
              "  }\n",
              "\n",
              "  [theme=dark] .colab-df-quickchart {\n",
              "      --bg-color: #3B4455;\n",
              "      --fill-color: #D2E3FC;\n",
              "      --hover-bg-color: #434B5C;\n",
              "      --hover-fill-color: #FFFFFF;\n",
              "      --disabled-bg-color: #3B4455;\n",
              "      --disabled-fill-color: #666;\n",
              "  }\n",
              "\n",
              "  .colab-df-quickchart {\n",
              "    background-color: var(--bg-color);\n",
              "    border: none;\n",
              "    border-radius: 50%;\n",
              "    cursor: pointer;\n",
              "    display: none;\n",
              "    fill: var(--fill-color);\n",
              "    height: 32px;\n",
              "    padding: 0;\n",
              "    width: 32px;\n",
              "  }\n",
              "\n",
              "  .colab-df-quickchart:hover {\n",
              "    background-color: var(--hover-bg-color);\n",
              "    box-shadow: 0 1px 2px rgba(60, 64, 67, 0.3), 0 1px 3px 1px rgba(60, 64, 67, 0.15);\n",
              "    fill: var(--button-hover-fill-color);\n",
              "  }\n",
              "\n",
              "  .colab-df-quickchart-complete:disabled,\n",
              "  .colab-df-quickchart-complete:disabled:hover {\n",
              "    background-color: var(--disabled-bg-color);\n",
              "    fill: var(--disabled-fill-color);\n",
              "    box-shadow: none;\n",
              "  }\n",
              "\n",
              "  .colab-df-spinner {\n",
              "    border: 2px solid var(--fill-color);\n",
              "    border-color: transparent;\n",
              "    border-bottom-color: var(--fill-color);\n",
              "    animation:\n",
              "      spin 1s steps(1) infinite;\n",
              "  }\n",
              "\n",
              "  @keyframes spin {\n",
              "    0% {\n",
              "      border-color: transparent;\n",
              "      border-bottom-color: var(--fill-color);\n",
              "      border-left-color: var(--fill-color);\n",
              "    }\n",
              "    20% {\n",
              "      border-color: transparent;\n",
              "      border-left-color: var(--fill-color);\n",
              "      border-top-color: var(--fill-color);\n",
              "    }\n",
              "    30% {\n",
              "      border-color: transparent;\n",
              "      border-left-color: var(--fill-color);\n",
              "      border-top-color: var(--fill-color);\n",
              "      border-right-color: var(--fill-color);\n",
              "    }\n",
              "    40% {\n",
              "      border-color: transparent;\n",
              "      border-right-color: var(--fill-color);\n",
              "      border-top-color: var(--fill-color);\n",
              "    }\n",
              "    60% {\n",
              "      border-color: transparent;\n",
              "      border-right-color: var(--fill-color);\n",
              "    }\n",
              "    80% {\n",
              "      border-color: transparent;\n",
              "      border-right-color: var(--fill-color);\n",
              "      border-bottom-color: var(--fill-color);\n",
              "    }\n",
              "    90% {\n",
              "      border-color: transparent;\n",
              "      border-bottom-color: var(--fill-color);\n",
              "    }\n",
              "  }\n",
              "</style>\n",
              "\n",
              "  <script>\n",
              "    async function quickchart(key) {\n",
              "      const quickchartButtonEl =\n",
              "        document.querySelector('#' + key + ' button');\n",
              "      quickchartButtonEl.disabled = true;  // To prevent multiple clicks.\n",
              "      quickchartButtonEl.classList.add('colab-df-spinner');\n",
              "      try {\n",
              "        const charts = await google.colab.kernel.invokeFunction(\n",
              "            'suggestCharts', [key], {});\n",
              "      } catch (error) {\n",
              "        console.error('Error during call to suggestCharts:', error);\n",
              "      }\n",
              "      quickchartButtonEl.classList.remove('colab-df-spinner');\n",
              "      quickchartButtonEl.classList.add('colab-df-quickchart-complete');\n",
              "    }\n",
              "    (() => {\n",
              "      let quickchartButtonEl =\n",
              "        document.querySelector('#df-00e08add-213c-4b3a-ba4b-886978c57d83 button');\n",
              "      quickchartButtonEl.style.display =\n",
              "        google.colab.kernel.accessAllowed ? 'block' : 'none';\n",
              "    })();\n",
              "  </script>\n",
              "</div>\n",
              "\n",
              "    </div>\n",
              "  </div>\n"
            ],
            "application/vnd.google.colaboratory.intrinsic+json": {
              "type": "dataframe",
              "variable_name": "df"
            }
          },
          "metadata": {},
          "execution_count": 5
        }
      ]
    },
    {
      "cell_type": "code",
      "source": [
        "df.info()"
      ],
      "metadata": {
        "colab": {
          "base_uri": "https://localhost:8080/"
        },
        "id": "FQnXQ4YOA59S",
        "outputId": "1cf810ab-b533-4973-eadb-a16c276a2a0f"
      },
      "execution_count": null,
      "outputs": [
        {
          "output_type": "stream",
          "name": "stdout",
          "text": [
            "<class 'pandas.core.frame.DataFrame'>\n",
            "RangeIndex: 525461 entries, 0 to 525460\n",
            "Data columns (total 8 columns):\n",
            " #   Column       Non-Null Count   Dtype         \n",
            "---  ------       --------------   -----         \n",
            " 0   Invoice      525461 non-null  object        \n",
            " 1   StockCode    525461 non-null  object        \n",
            " 2   Description  522533 non-null  object        \n",
            " 3   Quantity     525461 non-null  int64         \n",
            " 4   InvoiceDate  525461 non-null  datetime64[ns]\n",
            " 5   Price        525461 non-null  float64       \n",
            " 6   Customer ID  417534 non-null  float64       \n",
            " 7   Country      525461 non-null  object        \n",
            "dtypes: datetime64[ns](1), float64(2), int64(1), object(4)\n",
            "memory usage: 32.1+ MB\n"
          ]
        }
      ]
    },
    {
      "cell_type": "code",
      "source": [
        "df.drop(columns=['InvoiceDate'],axis=1)"
      ],
      "metadata": {
        "colab": {
          "base_uri": "https://localhost:8080/",
          "height": 423
        },
        "id": "2OlVo2PpOcBL",
        "outputId": "71b8237c-8059-4943-ce2c-1824ce774086"
      },
      "execution_count": null,
      "outputs": [
        {
          "output_type": "execute_result",
          "data": {
            "text/plain": [
              "       Invoice StockCode                          Description  Quantity  \\\n",
              "0       489434     85048  15CM CHRISTMAS GLASS BALL 20 LIGHTS        12   \n",
              "1       489434    79323P                   PINK CHERRY LIGHTS        12   \n",
              "2       489434    79323W                  WHITE CHERRY LIGHTS        12   \n",
              "3       489434     22041         RECORD FRAME 7\" SINGLE SIZE         48   \n",
              "4       489434     21232       STRAWBERRY CERAMIC TRINKET BOX        24   \n",
              "...        ...       ...                                  ...       ...   \n",
              "525456  538171     22271                 FELTCRAFT DOLL ROSIE         2   \n",
              "525457  538171     22750         FELTCRAFT PRINCESS LOLA DOLL         1   \n",
              "525458  538171     22751       FELTCRAFT PRINCESS OLIVIA DOLL         1   \n",
              "525459  538171     20970   PINK FLORAL FELTCRAFT SHOULDER BAG         2   \n",
              "525460  538171     21931               JUMBO STORAGE BAG SUKI         2   \n",
              "\n",
              "        Price  Customer ID         Country  \n",
              "0        6.95      13085.0  United Kingdom  \n",
              "1        6.75      13085.0  United Kingdom  \n",
              "2        6.75      13085.0  United Kingdom  \n",
              "3        2.10      13085.0  United Kingdom  \n",
              "4        1.25      13085.0  United Kingdom  \n",
              "...       ...          ...             ...  \n",
              "525456   2.95      17530.0  United Kingdom  \n",
              "525457   3.75      17530.0  United Kingdom  \n",
              "525458   3.75      17530.0  United Kingdom  \n",
              "525459   3.75      17530.0  United Kingdom  \n",
              "525460   1.95      17530.0  United Kingdom  \n",
              "\n",
              "[525461 rows x 7 columns]"
            ],
            "text/html": [
              "\n",
              "  <div id=\"df-0a44545d-3735-4a70-8eee-a77cddfb7074\" class=\"colab-df-container\">\n",
              "    <div>\n",
              "<style scoped>\n",
              "    .dataframe tbody tr th:only-of-type {\n",
              "        vertical-align: middle;\n",
              "    }\n",
              "\n",
              "    .dataframe tbody tr th {\n",
              "        vertical-align: top;\n",
              "    }\n",
              "\n",
              "    .dataframe thead th {\n",
              "        text-align: right;\n",
              "    }\n",
              "</style>\n",
              "<table border=\"1\" class=\"dataframe\">\n",
              "  <thead>\n",
              "    <tr style=\"text-align: right;\">\n",
              "      <th></th>\n",
              "      <th>Invoice</th>\n",
              "      <th>StockCode</th>\n",
              "      <th>Description</th>\n",
              "      <th>Quantity</th>\n",
              "      <th>Price</th>\n",
              "      <th>Customer ID</th>\n",
              "      <th>Country</th>\n",
              "    </tr>\n",
              "  </thead>\n",
              "  <tbody>\n",
              "    <tr>\n",
              "      <th>0</th>\n",
              "      <td>489434</td>\n",
              "      <td>85048</td>\n",
              "      <td>15CM CHRISTMAS GLASS BALL 20 LIGHTS</td>\n",
              "      <td>12</td>\n",
              "      <td>6.95</td>\n",
              "      <td>13085.0</td>\n",
              "      <td>United Kingdom</td>\n",
              "    </tr>\n",
              "    <tr>\n",
              "      <th>1</th>\n",
              "      <td>489434</td>\n",
              "      <td>79323P</td>\n",
              "      <td>PINK CHERRY LIGHTS</td>\n",
              "      <td>12</td>\n",
              "      <td>6.75</td>\n",
              "      <td>13085.0</td>\n",
              "      <td>United Kingdom</td>\n",
              "    </tr>\n",
              "    <tr>\n",
              "      <th>2</th>\n",
              "      <td>489434</td>\n",
              "      <td>79323W</td>\n",
              "      <td>WHITE CHERRY LIGHTS</td>\n",
              "      <td>12</td>\n",
              "      <td>6.75</td>\n",
              "      <td>13085.0</td>\n",
              "      <td>United Kingdom</td>\n",
              "    </tr>\n",
              "    <tr>\n",
              "      <th>3</th>\n",
              "      <td>489434</td>\n",
              "      <td>22041</td>\n",
              "      <td>RECORD FRAME 7\" SINGLE SIZE</td>\n",
              "      <td>48</td>\n",
              "      <td>2.10</td>\n",
              "      <td>13085.0</td>\n",
              "      <td>United Kingdom</td>\n",
              "    </tr>\n",
              "    <tr>\n",
              "      <th>4</th>\n",
              "      <td>489434</td>\n",
              "      <td>21232</td>\n",
              "      <td>STRAWBERRY CERAMIC TRINKET BOX</td>\n",
              "      <td>24</td>\n",
              "      <td>1.25</td>\n",
              "      <td>13085.0</td>\n",
              "      <td>United Kingdom</td>\n",
              "    </tr>\n",
              "    <tr>\n",
              "      <th>...</th>\n",
              "      <td>...</td>\n",
              "      <td>...</td>\n",
              "      <td>...</td>\n",
              "      <td>...</td>\n",
              "      <td>...</td>\n",
              "      <td>...</td>\n",
              "      <td>...</td>\n",
              "    </tr>\n",
              "    <tr>\n",
              "      <th>525456</th>\n",
              "      <td>538171</td>\n",
              "      <td>22271</td>\n",
              "      <td>FELTCRAFT DOLL ROSIE</td>\n",
              "      <td>2</td>\n",
              "      <td>2.95</td>\n",
              "      <td>17530.0</td>\n",
              "      <td>United Kingdom</td>\n",
              "    </tr>\n",
              "    <tr>\n",
              "      <th>525457</th>\n",
              "      <td>538171</td>\n",
              "      <td>22750</td>\n",
              "      <td>FELTCRAFT PRINCESS LOLA DOLL</td>\n",
              "      <td>1</td>\n",
              "      <td>3.75</td>\n",
              "      <td>17530.0</td>\n",
              "      <td>United Kingdom</td>\n",
              "    </tr>\n",
              "    <tr>\n",
              "      <th>525458</th>\n",
              "      <td>538171</td>\n",
              "      <td>22751</td>\n",
              "      <td>FELTCRAFT PRINCESS OLIVIA DOLL</td>\n",
              "      <td>1</td>\n",
              "      <td>3.75</td>\n",
              "      <td>17530.0</td>\n",
              "      <td>United Kingdom</td>\n",
              "    </tr>\n",
              "    <tr>\n",
              "      <th>525459</th>\n",
              "      <td>538171</td>\n",
              "      <td>20970</td>\n",
              "      <td>PINK FLORAL FELTCRAFT SHOULDER BAG</td>\n",
              "      <td>2</td>\n",
              "      <td>3.75</td>\n",
              "      <td>17530.0</td>\n",
              "      <td>United Kingdom</td>\n",
              "    </tr>\n",
              "    <tr>\n",
              "      <th>525460</th>\n",
              "      <td>538171</td>\n",
              "      <td>21931</td>\n",
              "      <td>JUMBO STORAGE BAG SUKI</td>\n",
              "      <td>2</td>\n",
              "      <td>1.95</td>\n",
              "      <td>17530.0</td>\n",
              "      <td>United Kingdom</td>\n",
              "    </tr>\n",
              "  </tbody>\n",
              "</table>\n",
              "<p>525461 rows × 7 columns</p>\n",
              "</div>\n",
              "    <div class=\"colab-df-buttons\">\n",
              "\n",
              "  <div class=\"colab-df-container\">\n",
              "    <button class=\"colab-df-convert\" onclick=\"convertToInteractive('df-0a44545d-3735-4a70-8eee-a77cddfb7074')\"\n",
              "            title=\"Convert this dataframe to an interactive table.\"\n",
              "            style=\"display:none;\">\n",
              "\n",
              "  <svg xmlns=\"http://www.w3.org/2000/svg\" height=\"24px\" viewBox=\"0 -960 960 960\">\n",
              "    <path d=\"M120-120v-720h720v720H120Zm60-500h600v-160H180v160Zm220 220h160v-160H400v160Zm0 220h160v-160H400v160ZM180-400h160v-160H180v160Zm440 0h160v-160H620v160ZM180-180h160v-160H180v160Zm440 0h160v-160H620v160Z\"/>\n",
              "  </svg>\n",
              "    </button>\n",
              "\n",
              "  <style>\n",
              "    .colab-df-container {\n",
              "      display:flex;\n",
              "      gap: 12px;\n",
              "    }\n",
              "\n",
              "    .colab-df-convert {\n",
              "      background-color: #E8F0FE;\n",
              "      border: none;\n",
              "      border-radius: 50%;\n",
              "      cursor: pointer;\n",
              "      display: none;\n",
              "      fill: #1967D2;\n",
              "      height: 32px;\n",
              "      padding: 0 0 0 0;\n",
              "      width: 32px;\n",
              "    }\n",
              "\n",
              "    .colab-df-convert:hover {\n",
              "      background-color: #E2EBFA;\n",
              "      box-shadow: 0px 1px 2px rgba(60, 64, 67, 0.3), 0px 1px 3px 1px rgba(60, 64, 67, 0.15);\n",
              "      fill: #174EA6;\n",
              "    }\n",
              "\n",
              "    .colab-df-buttons div {\n",
              "      margin-bottom: 4px;\n",
              "    }\n",
              "\n",
              "    [theme=dark] .colab-df-convert {\n",
              "      background-color: #3B4455;\n",
              "      fill: #D2E3FC;\n",
              "    }\n",
              "\n",
              "    [theme=dark] .colab-df-convert:hover {\n",
              "      background-color: #434B5C;\n",
              "      box-shadow: 0px 1px 3px 1px rgba(0, 0, 0, 0.15);\n",
              "      filter: drop-shadow(0px 1px 2px rgba(0, 0, 0, 0.3));\n",
              "      fill: #FFFFFF;\n",
              "    }\n",
              "  </style>\n",
              "\n",
              "    <script>\n",
              "      const buttonEl =\n",
              "        document.querySelector('#df-0a44545d-3735-4a70-8eee-a77cddfb7074 button.colab-df-convert');\n",
              "      buttonEl.style.display =\n",
              "        google.colab.kernel.accessAllowed ? 'block' : 'none';\n",
              "\n",
              "      async function convertToInteractive(key) {\n",
              "        const element = document.querySelector('#df-0a44545d-3735-4a70-8eee-a77cddfb7074');\n",
              "        const dataTable =\n",
              "          await google.colab.kernel.invokeFunction('convertToInteractive',\n",
              "                                                    [key], {});\n",
              "        if (!dataTable) return;\n",
              "\n",
              "        const docLinkHtml = 'Like what you see? Visit the ' +\n",
              "          '<a target=\"_blank\" href=https://colab.research.google.com/notebooks/data_table.ipynb>data table notebook</a>'\n",
              "          + ' to learn more about interactive tables.';\n",
              "        element.innerHTML = '';\n",
              "        dataTable['output_type'] = 'display_data';\n",
              "        await google.colab.output.renderOutput(dataTable, element);\n",
              "        const docLink = document.createElement('div');\n",
              "        docLink.innerHTML = docLinkHtml;\n",
              "        element.appendChild(docLink);\n",
              "      }\n",
              "    </script>\n",
              "  </div>\n",
              "\n",
              "\n",
              "<div id=\"df-988a494a-1f06-491f-b090-4fa30f720165\">\n",
              "  <button class=\"colab-df-quickchart\" onclick=\"quickchart('df-988a494a-1f06-491f-b090-4fa30f720165')\"\n",
              "            title=\"Suggest charts\"\n",
              "            style=\"display:none;\">\n",
              "\n",
              "<svg xmlns=\"http://www.w3.org/2000/svg\" height=\"24px\"viewBox=\"0 0 24 24\"\n",
              "     width=\"24px\">\n",
              "    <g>\n",
              "        <path d=\"M19 3H5c-1.1 0-2 .9-2 2v14c0 1.1.9 2 2 2h14c1.1 0 2-.9 2-2V5c0-1.1-.9-2-2-2zM9 17H7v-7h2v7zm4 0h-2V7h2v10zm4 0h-2v-4h2v4z\"/>\n",
              "    </g>\n",
              "</svg>\n",
              "  </button>\n",
              "\n",
              "<style>\n",
              "  .colab-df-quickchart {\n",
              "      --bg-color: #E8F0FE;\n",
              "      --fill-color: #1967D2;\n",
              "      --hover-bg-color: #E2EBFA;\n",
              "      --hover-fill-color: #174EA6;\n",
              "      --disabled-fill-color: #AAA;\n",
              "      --disabled-bg-color: #DDD;\n",
              "  }\n",
              "\n",
              "  [theme=dark] .colab-df-quickchart {\n",
              "      --bg-color: #3B4455;\n",
              "      --fill-color: #D2E3FC;\n",
              "      --hover-bg-color: #434B5C;\n",
              "      --hover-fill-color: #FFFFFF;\n",
              "      --disabled-bg-color: #3B4455;\n",
              "      --disabled-fill-color: #666;\n",
              "  }\n",
              "\n",
              "  .colab-df-quickchart {\n",
              "    background-color: var(--bg-color);\n",
              "    border: none;\n",
              "    border-radius: 50%;\n",
              "    cursor: pointer;\n",
              "    display: none;\n",
              "    fill: var(--fill-color);\n",
              "    height: 32px;\n",
              "    padding: 0;\n",
              "    width: 32px;\n",
              "  }\n",
              "\n",
              "  .colab-df-quickchart:hover {\n",
              "    background-color: var(--hover-bg-color);\n",
              "    box-shadow: 0 1px 2px rgba(60, 64, 67, 0.3), 0 1px 3px 1px rgba(60, 64, 67, 0.15);\n",
              "    fill: var(--button-hover-fill-color);\n",
              "  }\n",
              "\n",
              "  .colab-df-quickchart-complete:disabled,\n",
              "  .colab-df-quickchart-complete:disabled:hover {\n",
              "    background-color: var(--disabled-bg-color);\n",
              "    fill: var(--disabled-fill-color);\n",
              "    box-shadow: none;\n",
              "  }\n",
              "\n",
              "  .colab-df-spinner {\n",
              "    border: 2px solid var(--fill-color);\n",
              "    border-color: transparent;\n",
              "    border-bottom-color: var(--fill-color);\n",
              "    animation:\n",
              "      spin 1s steps(1) infinite;\n",
              "  }\n",
              "\n",
              "  @keyframes spin {\n",
              "    0% {\n",
              "      border-color: transparent;\n",
              "      border-bottom-color: var(--fill-color);\n",
              "      border-left-color: var(--fill-color);\n",
              "    }\n",
              "    20% {\n",
              "      border-color: transparent;\n",
              "      border-left-color: var(--fill-color);\n",
              "      border-top-color: var(--fill-color);\n",
              "    }\n",
              "    30% {\n",
              "      border-color: transparent;\n",
              "      border-left-color: var(--fill-color);\n",
              "      border-top-color: var(--fill-color);\n",
              "      border-right-color: var(--fill-color);\n",
              "    }\n",
              "    40% {\n",
              "      border-color: transparent;\n",
              "      border-right-color: var(--fill-color);\n",
              "      border-top-color: var(--fill-color);\n",
              "    }\n",
              "    60% {\n",
              "      border-color: transparent;\n",
              "      border-right-color: var(--fill-color);\n",
              "    }\n",
              "    80% {\n",
              "      border-color: transparent;\n",
              "      border-right-color: var(--fill-color);\n",
              "      border-bottom-color: var(--fill-color);\n",
              "    }\n",
              "    90% {\n",
              "      border-color: transparent;\n",
              "      border-bottom-color: var(--fill-color);\n",
              "    }\n",
              "  }\n",
              "</style>\n",
              "\n",
              "  <script>\n",
              "    async function quickchart(key) {\n",
              "      const quickchartButtonEl =\n",
              "        document.querySelector('#' + key + ' button');\n",
              "      quickchartButtonEl.disabled = true;  // To prevent multiple clicks.\n",
              "      quickchartButtonEl.classList.add('colab-df-spinner');\n",
              "      try {\n",
              "        const charts = await google.colab.kernel.invokeFunction(\n",
              "            'suggestCharts', [key], {});\n",
              "      } catch (error) {\n",
              "        console.error('Error during call to suggestCharts:', error);\n",
              "      }\n",
              "      quickchartButtonEl.classList.remove('colab-df-spinner');\n",
              "      quickchartButtonEl.classList.add('colab-df-quickchart-complete');\n",
              "    }\n",
              "    (() => {\n",
              "      let quickchartButtonEl =\n",
              "        document.querySelector('#df-988a494a-1f06-491f-b090-4fa30f720165 button');\n",
              "      quickchartButtonEl.style.display =\n",
              "        google.colab.kernel.accessAllowed ? 'block' : 'none';\n",
              "    })();\n",
              "  </script>\n",
              "</div>\n",
              "\n",
              "    </div>\n",
              "  </div>\n"
            ],
            "application/vnd.google.colaboratory.intrinsic+json": {
              "type": "dataframe"
            }
          },
          "metadata": {},
          "execution_count": 7
        }
      ]
    },
    {
      "cell_type": "code",
      "source": [
        "df.isna().sum()"
      ],
      "metadata": {
        "colab": {
          "base_uri": "https://localhost:8080/"
        },
        "id": "AYSy3qZGOhHI",
        "outputId": "e255577a-0a62-45b9-ab1e-b6ec9d05941e"
      },
      "execution_count": null,
      "outputs": [
        {
          "output_type": "execute_result",
          "data": {
            "text/plain": [
              "Invoice             0\n",
              "StockCode           0\n",
              "Description      2928\n",
              "Quantity            0\n",
              "InvoiceDate         0\n",
              "Price               0\n",
              "Customer ID    107927\n",
              "Country             0\n",
              "dtype: int64"
            ]
          },
          "metadata": {},
          "execution_count": 8
        }
      ]
    },
    {
      "cell_type": "code",
      "source": [
        "df['Customer ID'].fillna(df['Customer ID'].mean(), inplace=True)"
      ],
      "metadata": {
        "id": "vtAVl1foBCoG"
      },
      "execution_count": null,
      "outputs": []
    },
    {
      "cell_type": "code",
      "source": [
        "df.isna().sum()"
      ],
      "metadata": {
        "colab": {
          "base_uri": "https://localhost:8080/"
        },
        "id": "ZFEcZrlUO1sK",
        "outputId": "0b863c5b-ce48-4520-bced-4f19160dd748"
      },
      "execution_count": null,
      "outputs": [
        {
          "output_type": "execute_result",
          "data": {
            "text/plain": [
              "Invoice           0\n",
              "StockCode         0\n",
              "Description    2928\n",
              "Quantity          0\n",
              "InvoiceDate       0\n",
              "Price             0\n",
              "Customer ID       0\n",
              "Country           0\n",
              "dtype: int64"
            ]
          },
          "metadata": {},
          "execution_count": 10
        }
      ]
    },
    {
      "cell_type": "code",
      "source": [
        "from sklearn.impute import SimpleImputer"
      ],
      "metadata": {
        "id": "ivnU-EKhBD78"
      },
      "execution_count": null,
      "outputs": []
    },
    {
      "cell_type": "code",
      "source": [
        "df = pd.DataFrame(SimpleImputer(strategy=\"most_frequent\").fit_transform(df))"
      ],
      "metadata": {
        "id": "h8iP3kFKBHF-"
      },
      "execution_count": null,
      "outputs": []
    },
    {
      "cell_type": "code",
      "source": [
        "print(df.isna().sum())"
      ],
      "metadata": {
        "colab": {
          "base_uri": "https://localhost:8080/"
        },
        "id": "nMf3hsxEO9eY",
        "outputId": "74a3e7f6-0cc7-4502-c410-34925ef78230"
      },
      "execution_count": null,
      "outputs": [
        {
          "output_type": "stream",
          "name": "stdout",
          "text": [
            "0    0\n",
            "1    0\n",
            "2    0\n",
            "3    0\n",
            "4    0\n",
            "5    0\n",
            "6    0\n",
            "7    0\n",
            "dtype: int64\n"
          ]
        }
      ]
    },
    {
      "cell_type": "code",
      "source": [
        "for i in [0,1,2]:\n",
        "    df[i] = df[i].astype(str)"
      ],
      "metadata": {
        "id": "thvZV7vjPFVZ"
      },
      "execution_count": null,
      "outputs": []
    },
    {
      "cell_type": "code",
      "source": [
        "from sklearn.preprocessing import LabelEncoder, StandardScaler"
      ],
      "metadata": {
        "id": "bklpaO5vBLqI"
      },
      "execution_count": null,
      "outputs": []
    },
    {
      "cell_type": "code",
      "source": [
        "for i in [0, 1, 2, 4, 7]:\n",
        "      df[i] = LabelEncoder().fit_transform(df[i])\n",
        "target = df[7]\n",
        "data = df.drop(columns=[7])"
      ],
      "metadata": {
        "id": "RliVk8MgJue0"
      },
      "execution_count": null,
      "outputs": []
    },
    {
      "cell_type": "code",
      "source": [
        "from sklearn.model_selection import train_test_split, GridSearchCV"
      ],
      "metadata": {
        "id": "5wFJavLsDrFK"
      },
      "execution_count": null,
      "outputs": []
    },
    {
      "cell_type": "code",
      "source": [
        "x_train, x_test, y_train, y_test = train_test_split(data, target, test_size=0.3)"
      ],
      "metadata": {
        "id": "4noWoImxBhDs"
      },
      "execution_count": null,
      "outputs": []
    },
    {
      "cell_type": "code",
      "source": [
        "scaler = StandardScaler()\n",
        "x_train = scaler.fit_transform(x_train)\n",
        "x_test = scaler.transform(x_test)"
      ],
      "metadata": {
        "id": "DNWPqYqYDwrd"
      },
      "execution_count": null,
      "outputs": []
    },
    {
      "cell_type": "code",
      "source": [
        "from sklearn.linear_model import LogisticRegression\n",
        "from sklearn.neighbors import KNeighborsClassifier\n",
        "from sklearn.tree import DecisionTreeClassifier"
      ],
      "metadata": {
        "id": "0D-cQyKHD-kP"
      },
      "execution_count": null,
      "outputs": []
    },
    {
      "cell_type": "code",
      "source": [
        "model_lr = LogisticRegression(max_iter=3000)\n",
        "model_knn = KNeighborsClassifier(n_neighbors=5)\n",
        "model_dt = DecisionTreeClassifier(criterion=\"entropy\", max_depth=2)"
      ],
      "metadata": {
        "id": "xa7SSUvuD0MN"
      },
      "execution_count": null,
      "outputs": []
    },
    {
      "cell_type": "code",
      "source": [
        "model_lr.fit(x_train, y_train)\n",
        "model_knn.fit(x_train, y_train)\n",
        "model_dt.fit(x_train, y_train)"
      ],
      "metadata": {
        "colab": {
          "base_uri": "https://localhost:8080/",
          "height": 74
        },
        "id": "OB5qYQfpD32l",
        "outputId": "c58d4da8-fdc6-4ee1-ea79-d6a2b0063155"
      },
      "execution_count": null,
      "outputs": [
        {
          "output_type": "execute_result",
          "data": {
            "text/plain": [
              "DecisionTreeClassifier(criterion='entropy', max_depth=2)"
            ],
            "text/html": [
              "<style>#sk-container-id-1 {color: black;background-color: white;}#sk-container-id-1 pre{padding: 0;}#sk-container-id-1 div.sk-toggleable {background-color: white;}#sk-container-id-1 label.sk-toggleable__label {cursor: pointer;display: block;width: 100%;margin-bottom: 0;padding: 0.3em;box-sizing: border-box;text-align: center;}#sk-container-id-1 label.sk-toggleable__label-arrow:before {content: \"▸\";float: left;margin-right: 0.25em;color: #696969;}#sk-container-id-1 label.sk-toggleable__label-arrow:hover:before {color: black;}#sk-container-id-1 div.sk-estimator:hover label.sk-toggleable__label-arrow:before {color: black;}#sk-container-id-1 div.sk-toggleable__content {max-height: 0;max-width: 0;overflow: hidden;text-align: left;background-color: #f0f8ff;}#sk-container-id-1 div.sk-toggleable__content pre {margin: 0.2em;color: black;border-radius: 0.25em;background-color: #f0f8ff;}#sk-container-id-1 input.sk-toggleable__control:checked~div.sk-toggleable__content {max-height: 200px;max-width: 100%;overflow: auto;}#sk-container-id-1 input.sk-toggleable__control:checked~label.sk-toggleable__label-arrow:before {content: \"▾\";}#sk-container-id-1 div.sk-estimator input.sk-toggleable__control:checked~label.sk-toggleable__label {background-color: #d4ebff;}#sk-container-id-1 div.sk-label input.sk-toggleable__control:checked~label.sk-toggleable__label {background-color: #d4ebff;}#sk-container-id-1 input.sk-hidden--visually {border: 0;clip: rect(1px 1px 1px 1px);clip: rect(1px, 1px, 1px, 1px);height: 1px;margin: -1px;overflow: hidden;padding: 0;position: absolute;width: 1px;}#sk-container-id-1 div.sk-estimator {font-family: monospace;background-color: #f0f8ff;border: 1px dotted black;border-radius: 0.25em;box-sizing: border-box;margin-bottom: 0.5em;}#sk-container-id-1 div.sk-estimator:hover {background-color: #d4ebff;}#sk-container-id-1 div.sk-parallel-item::after {content: \"\";width: 100%;border-bottom: 1px solid gray;flex-grow: 1;}#sk-container-id-1 div.sk-label:hover label.sk-toggleable__label {background-color: #d4ebff;}#sk-container-id-1 div.sk-serial::before {content: \"\";position: absolute;border-left: 1px solid gray;box-sizing: border-box;top: 0;bottom: 0;left: 50%;z-index: 0;}#sk-container-id-1 div.sk-serial {display: flex;flex-direction: column;align-items: center;background-color: white;padding-right: 0.2em;padding-left: 0.2em;position: relative;}#sk-container-id-1 div.sk-item {position: relative;z-index: 1;}#sk-container-id-1 div.sk-parallel {display: flex;align-items: stretch;justify-content: center;background-color: white;position: relative;}#sk-container-id-1 div.sk-item::before, #sk-container-id-1 div.sk-parallel-item::before {content: \"\";position: absolute;border-left: 1px solid gray;box-sizing: border-box;top: 0;bottom: 0;left: 50%;z-index: -1;}#sk-container-id-1 div.sk-parallel-item {display: flex;flex-direction: column;z-index: 1;position: relative;background-color: white;}#sk-container-id-1 div.sk-parallel-item:first-child::after {align-self: flex-end;width: 50%;}#sk-container-id-1 div.sk-parallel-item:last-child::after {align-self: flex-start;width: 50%;}#sk-container-id-1 div.sk-parallel-item:only-child::after {width: 0;}#sk-container-id-1 div.sk-dashed-wrapped {border: 1px dashed gray;margin: 0 0.4em 0.5em 0.4em;box-sizing: border-box;padding-bottom: 0.4em;background-color: white;}#sk-container-id-1 div.sk-label label {font-family: monospace;font-weight: bold;display: inline-block;line-height: 1.2em;}#sk-container-id-1 div.sk-label-container {text-align: center;}#sk-container-id-1 div.sk-container {/* jupyter's `normalize.less` sets `[hidden] { display: none; }` but bootstrap.min.css set `[hidden] { display: none !important; }` so we also need the `!important` here to be able to override the default hidden behavior on the sphinx rendered scikit-learn.org. See: https://github.com/scikit-learn/scikit-learn/issues/21755 */display: inline-block !important;position: relative;}#sk-container-id-1 div.sk-text-repr-fallback {display: none;}</style><div id=\"sk-container-id-1\" class=\"sk-top-container\"><div class=\"sk-text-repr-fallback\"><pre>DecisionTreeClassifier(criterion=&#x27;entropy&#x27;, max_depth=2)</pre><b>In a Jupyter environment, please rerun this cell to show the HTML representation or trust the notebook. <br />On GitHub, the HTML representation is unable to render, please try loading this page with nbviewer.org.</b></div><div class=\"sk-container\" hidden><div class=\"sk-item\"><div class=\"sk-estimator sk-toggleable\"><input class=\"sk-toggleable__control sk-hidden--visually\" id=\"sk-estimator-id-1\" type=\"checkbox\" checked><label for=\"sk-estimator-id-1\" class=\"sk-toggleable__label sk-toggleable__label-arrow\">DecisionTreeClassifier</label><div class=\"sk-toggleable__content\"><pre>DecisionTreeClassifier(criterion=&#x27;entropy&#x27;, max_depth=2)</pre></div></div></div></div></div>"
            ]
          },
          "metadata": {},
          "execution_count": 22
        }
      ]
    },
    {
      "cell_type": "code",
      "source": [
        "pred_lr_train = model_lr.predict(x_train)\n",
        "pred_lr_test = model_lr.predict(x_test)"
      ],
      "metadata": {
        "id": "FTmD9VNIH_Ym"
      },
      "execution_count": null,
      "outputs": []
    },
    {
      "cell_type": "code",
      "source": [
        "pred_knn_train = model_knn.predict(x_train)\n",
        "pred_knn_test = model_knn.predict(x_test)"
      ],
      "metadata": {
        "id": "F3_GAGPYIBzi"
      },
      "execution_count": null,
      "outputs": []
    },
    {
      "cell_type": "code",
      "source": [
        "pred_dt_train = model_dt.predict(x_train)\n",
        "pred_dt_test = model_dt.predict(x_test)"
      ],
      "metadata": {
        "id": "vWW5T91wPbsI"
      },
      "execution_count": null,
      "outputs": []
    },
    {
      "cell_type": "code",
      "source": [
        "from sklearn.metrics import accuracy_score, precision_score, recall_score, f1_score"
      ],
      "metadata": {
        "id": "SALIPNTSPeuy"
      },
      "execution_count": null,
      "outputs": []
    },
    {
      "cell_type": "code",
      "source": [
        "accuracy_lr_train = accuracy_score(y_train, pred_lr_train)\n",
        "accuracy_lr_test = accuracy_score(y_test, pred_lr_test)\n",
        "\n",
        "accuracy_knn_train = accuracy_score(y_train, pred_knn_train)\n",
        "accuracy_knn_test = accuracy_score(y_test, pred_knn_test)\n",
        "\n",
        "accuracy_dt_train = accuracy_score(y_train, pred_dt_train)\n",
        "accuracy_dt_test = accuracy_score(y_test, pred_dt_test)"
      ],
      "metadata": {
        "id": "0nI9C_R0Pm3Q"
      },
      "execution_count": null,
      "outputs": []
    },
    {
      "cell_type": "code",
      "source": [
        "precision_lr_test = precision_score(y_test, pred_lr_test, average='weighted')\n",
        "recall_lr_test = recall_score(y_test, pred_lr_test, average='weighted')\n",
        "f1_lr_test = f1_score(y_test, pred_lr_test, average='weighted')"
      ],
      "metadata": {
        "id": "T0oQgOBaPvS8"
      },
      "execution_count": null,
      "outputs": []
    },
    {
      "cell_type": "code",
      "source": [
        "precision_knn_test = precision_score(y_test, pred_knn_test, average='weighted')\n",
        "recall_knn_test = recall_score(y_test, pred_knn_test, average='weighted')\n",
        "f1_knn_test = f1_score(y_test, pred_knn_test, average='weighted')"
      ],
      "metadata": {
        "id": "FVqOy3fWPyPe"
      },
      "execution_count": null,
      "outputs": []
    },
    {
      "cell_type": "code",
      "source": [
        "precision_dt_test = precision_score(y_test, pred_dt_test, average='weighted')\n",
        "recall_dt_test = recall_score(y_test, pred_dt_test, average='weighted')\n",
        "f1_dt_test = f1_score(y_test, pred_dt_test, average='weighted')"
      ],
      "metadata": {
        "id": "dGyuYBx4P3OC"
      },
      "execution_count": null,
      "outputs": []
    },
    {
      "cell_type": "code",
      "source": [
        "from sklearn.model_selection import GridSearchCV\n",
        "params_lr = {'C': [0.01, 0.1, 1]}\n",
        "params_knn = {'n_neighbors': [3, 5, 7, 9]}\n",
        "params_dt = {'max_depth': [2, 4, 6, 8], 'min_samples_split': [2, 4, 6, 8]}"
      ],
      "metadata": {
        "id": "k3pghT5ijmuP"
      },
      "execution_count": null,
      "outputs": []
    },
    {
      "cell_type": "code",
      "source": [
        "grid_lr = GridSearchCV(model_lr, params_lr, cv=5)\n",
        "grid_knn = GridSearchCV(model_knn, params_knn, cv=5)\n",
        "grid_dt = GridSearchCV(model_dt, params_dt, cv=5)"
      ],
      "metadata": {
        "id": "WA8Wxhm0jqVw"
      },
      "execution_count": null,
      "outputs": []
    },
    {
      "cell_type": "code",
      "source": [
        "grid_lr.fit(x_train, y_train)\n",
        "grid_knn.fit(x_train, y_train)\n",
        "grid_dt.fit(x_train, y_train)"
      ],
      "metadata": {
        "id": "fGuuibEjjsZM",
        "colab": {
          "base_uri": "https://localhost:8080/",
          "height": 117
        },
        "outputId": "ecd9a5c0-fa6f-419e-a30f-d43a8abd77f1"
      },
      "execution_count": null,
      "outputs": [
        {
          "output_type": "execute_result",
          "data": {
            "text/plain": [
              "GridSearchCV(cv=5,\n",
              "             estimator=DecisionTreeClassifier(criterion='entropy', max_depth=2),\n",
              "             param_grid={'max_depth': [2, 4, 6, 8],\n",
              "                         'min_samples_split': [2, 4, 6, 8]})"
            ],
            "text/html": [
              "<style>#sk-container-id-2 {color: black;background-color: white;}#sk-container-id-2 pre{padding: 0;}#sk-container-id-2 div.sk-toggleable {background-color: white;}#sk-container-id-2 label.sk-toggleable__label {cursor: pointer;display: block;width: 100%;margin-bottom: 0;padding: 0.3em;box-sizing: border-box;text-align: center;}#sk-container-id-2 label.sk-toggleable__label-arrow:before {content: \"▸\";float: left;margin-right: 0.25em;color: #696969;}#sk-container-id-2 label.sk-toggleable__label-arrow:hover:before {color: black;}#sk-container-id-2 div.sk-estimator:hover label.sk-toggleable__label-arrow:before {color: black;}#sk-container-id-2 div.sk-toggleable__content {max-height: 0;max-width: 0;overflow: hidden;text-align: left;background-color: #f0f8ff;}#sk-container-id-2 div.sk-toggleable__content pre {margin: 0.2em;color: black;border-radius: 0.25em;background-color: #f0f8ff;}#sk-container-id-2 input.sk-toggleable__control:checked~div.sk-toggleable__content {max-height: 200px;max-width: 100%;overflow: auto;}#sk-container-id-2 input.sk-toggleable__control:checked~label.sk-toggleable__label-arrow:before {content: \"▾\";}#sk-container-id-2 div.sk-estimator input.sk-toggleable__control:checked~label.sk-toggleable__label {background-color: #d4ebff;}#sk-container-id-2 div.sk-label input.sk-toggleable__control:checked~label.sk-toggleable__label {background-color: #d4ebff;}#sk-container-id-2 input.sk-hidden--visually {border: 0;clip: rect(1px 1px 1px 1px);clip: rect(1px, 1px, 1px, 1px);height: 1px;margin: -1px;overflow: hidden;padding: 0;position: absolute;width: 1px;}#sk-container-id-2 div.sk-estimator {font-family: monospace;background-color: #f0f8ff;border: 1px dotted black;border-radius: 0.25em;box-sizing: border-box;margin-bottom: 0.5em;}#sk-container-id-2 div.sk-estimator:hover {background-color: #d4ebff;}#sk-container-id-2 div.sk-parallel-item::after {content: \"\";width: 100%;border-bottom: 1px solid gray;flex-grow: 1;}#sk-container-id-2 div.sk-label:hover label.sk-toggleable__label {background-color: #d4ebff;}#sk-container-id-2 div.sk-serial::before {content: \"\";position: absolute;border-left: 1px solid gray;box-sizing: border-box;top: 0;bottom: 0;left: 50%;z-index: 0;}#sk-container-id-2 div.sk-serial {display: flex;flex-direction: column;align-items: center;background-color: white;padding-right: 0.2em;padding-left: 0.2em;position: relative;}#sk-container-id-2 div.sk-item {position: relative;z-index: 1;}#sk-container-id-2 div.sk-parallel {display: flex;align-items: stretch;justify-content: center;background-color: white;position: relative;}#sk-container-id-2 div.sk-item::before, #sk-container-id-2 div.sk-parallel-item::before {content: \"\";position: absolute;border-left: 1px solid gray;box-sizing: border-box;top: 0;bottom: 0;left: 50%;z-index: -1;}#sk-container-id-2 div.sk-parallel-item {display: flex;flex-direction: column;z-index: 1;position: relative;background-color: white;}#sk-container-id-2 div.sk-parallel-item:first-child::after {align-self: flex-end;width: 50%;}#sk-container-id-2 div.sk-parallel-item:last-child::after {align-self: flex-start;width: 50%;}#sk-container-id-2 div.sk-parallel-item:only-child::after {width: 0;}#sk-container-id-2 div.sk-dashed-wrapped {border: 1px dashed gray;margin: 0 0.4em 0.5em 0.4em;box-sizing: border-box;padding-bottom: 0.4em;background-color: white;}#sk-container-id-2 div.sk-label label {font-family: monospace;font-weight: bold;display: inline-block;line-height: 1.2em;}#sk-container-id-2 div.sk-label-container {text-align: center;}#sk-container-id-2 div.sk-container {/* jupyter's `normalize.less` sets `[hidden] { display: none; }` but bootstrap.min.css set `[hidden] { display: none !important; }` so we also need the `!important` here to be able to override the default hidden behavior on the sphinx rendered scikit-learn.org. See: https://github.com/scikit-learn/scikit-learn/issues/21755 */display: inline-block !important;position: relative;}#sk-container-id-2 div.sk-text-repr-fallback {display: none;}</style><div id=\"sk-container-id-2\" class=\"sk-top-container\"><div class=\"sk-text-repr-fallback\"><pre>GridSearchCV(cv=5,\n",
              "             estimator=DecisionTreeClassifier(criterion=&#x27;entropy&#x27;, max_depth=2),\n",
              "             param_grid={&#x27;max_depth&#x27;: [2, 4, 6, 8],\n",
              "                         &#x27;min_samples_split&#x27;: [2, 4, 6, 8]})</pre><b>In a Jupyter environment, please rerun this cell to show the HTML representation or trust the notebook. <br />On GitHub, the HTML representation is unable to render, please try loading this page with nbviewer.org.</b></div><div class=\"sk-container\" hidden><div class=\"sk-item sk-dashed-wrapped\"><div class=\"sk-label-container\"><div class=\"sk-label sk-toggleable\"><input class=\"sk-toggleable__control sk-hidden--visually\" id=\"sk-estimator-id-2\" type=\"checkbox\" ><label for=\"sk-estimator-id-2\" class=\"sk-toggleable__label sk-toggleable__label-arrow\">GridSearchCV</label><div class=\"sk-toggleable__content\"><pre>GridSearchCV(cv=5,\n",
              "             estimator=DecisionTreeClassifier(criterion=&#x27;entropy&#x27;, max_depth=2),\n",
              "             param_grid={&#x27;max_depth&#x27;: [2, 4, 6, 8],\n",
              "                         &#x27;min_samples_split&#x27;: [2, 4, 6, 8]})</pre></div></div></div><div class=\"sk-parallel\"><div class=\"sk-parallel-item\"><div class=\"sk-item\"><div class=\"sk-label-container\"><div class=\"sk-label sk-toggleable\"><input class=\"sk-toggleable__control sk-hidden--visually\" id=\"sk-estimator-id-3\" type=\"checkbox\" ><label for=\"sk-estimator-id-3\" class=\"sk-toggleable__label sk-toggleable__label-arrow\">estimator: DecisionTreeClassifier</label><div class=\"sk-toggleable__content\"><pre>DecisionTreeClassifier(criterion=&#x27;entropy&#x27;, max_depth=2)</pre></div></div></div><div class=\"sk-serial\"><div class=\"sk-item\"><div class=\"sk-estimator sk-toggleable\"><input class=\"sk-toggleable__control sk-hidden--visually\" id=\"sk-estimator-id-4\" type=\"checkbox\" ><label for=\"sk-estimator-id-4\" class=\"sk-toggleable__label sk-toggleable__label-arrow\">DecisionTreeClassifier</label><div class=\"sk-toggleable__content\"><pre>DecisionTreeClassifier(criterion=&#x27;entropy&#x27;, max_depth=2)</pre></div></div></div></div></div></div></div></div></div></div>"
            ]
          },
          "metadata": {},
          "execution_count": 26
        }
      ]
    },
    {
      "cell_type": "code",
      "source": [
        "print(\"Logistic Regression: best hyperparameters: \", grid_lr.best_params_)\n",
        "print(\"test accuracy: \", grid_lr.score(x_test, y_test))\n",
        "\n",
        "print(\"KNearest Neighbors: best hyperparameters: \", grid_knn.best_params_)\n",
        "print(\"test accuracy: \", grid_knn.score(x_test, y_test))\n",
        "\n",
        "print(\"Decision Tree: best hyperparameters: \", grid_dt.best_params_)\n",
        "print(\"test accuracy: \", grid_dt.score(x_test, y_test))"
      ],
      "metadata": {
        "id": "8yEEs3o-m5KZ",
        "colab": {
          "base_uri": "https://localhost:8080/"
        },
        "outputId": "76662a82-e739-49f4-d473-e5f079885953"
      },
      "execution_count": null,
      "outputs": [
        {
          "output_type": "stream",
          "name": "stdout",
          "text": [
            "Logistic Regression: best hyperparameters:  {'C': 1}\n",
            "test accuracy:  0.9315588147603068\n",
            "KNearest Neighbors: best hyperparameters:  {'n_neighbors': 7}\n",
            "test accuracy:  0.9398118485907675\n",
            "Decision Tree: best hyperparameters:  {'max_depth': 8, 'min_samples_split': 2}\n",
            "test accuracy:  0.984007764576025\n"
          ]
        }
      ]
    },
    {
      "cell_type": "code",
      "source": [
        "print(\"Logistic Regression:\")\n",
        "print(\"Training Accuracy:\", accuracy_lr_train)\n",
        "print(\"Testing Accuracy:\", accuracy_lr_test)\n",
        "print(\"Precision:\", precision_lr_test)\n",
        "print(\"Recall:\", recall_lr_test)\n",
        "print(\"F1-score:\", f1_lr_test)\n",
        "print()"
      ],
      "metadata": {
        "colab": {
          "base_uri": "https://localhost:8080/"
        },
        "id": "n3CwNC1DP4Wb",
        "outputId": "12996db8-fa82-4d62-b302-d3c52bf8bd4f"
      },
      "execution_count": null,
      "outputs": [
        {
          "output_type": "stream",
          "name": "stdout",
          "text": [
            "Logistic Regression:\n",
            "Training Accuracy: 0.931551130709963\n",
            "Testing Accuracy: 0.9317808410355305\n",
            "Precision: 0.8803555348456912\n",
            "Recall: 0.9317808410355305\n",
            "F1-score: 0.9050046032802481\n",
            "\n"
          ]
        }
      ]
    },
    {
      "cell_type": "code",
      "source": [
        "print(\"K-Nearest Neighbors:\")\n",
        "print(\"Training Accuracy:\", accuracy_knn_train)\n",
        "print(\"Testing Accuracy:\", accuracy_knn_test)\n",
        "print(\"Precision:\", precision_knn_test)\n",
        "print(\"Recall:\", recall_knn_test)\n",
        "print(\"F1-score:\", f1_knn_test)\n",
        "print()"
      ],
      "metadata": {
        "colab": {
          "base_uri": "https://localhost:8080/"
        },
        "id": "9ex9eLvzP6yr",
        "outputId": "26497d62-be14-4ddc-fd7a-d1737b32629b"
      },
      "execution_count": null,
      "outputs": [
        {
          "output_type": "stream",
          "name": "stdout",
          "text": [
            "K-Nearest Neighbors:\n",
            "Training Accuracy: 0.9567317887456432\n",
            "Testing Accuracy: 0.9398625974536758\n",
            "Precision: 0.930121911187346\n",
            "Recall: 0.9398625974536758\n",
            "F1-score: 0.9330156980453245\n",
            "\n"
          ]
        }
      ]
    },
    {
      "cell_type": "code",
      "source": [
        "print(\"Decision Tree:\")\n",
        "print(\"Training Accuracy:\", accuracy_dt_train)\n",
        "print(\"Testing Accuracy:\", accuracy_dt_test)\n",
        "print(\"Precision:\", precision_dt_test)\n",
        "print(\"Recall:\", recall_dt_test)\n",
        "print(\"F1-score:\", f1_dt_test)\n",
        "print()"
      ],
      "metadata": {
        "colab": {
          "base_uri": "https://localhost:8080/"
        },
        "id": "NrG6YQ4mP-cr",
        "outputId": "c3e35dbb-1220-4883-997e-8912204c4a97"
      },
      "execution_count": null,
      "outputs": [
        {
          "output_type": "stream",
          "name": "stdout",
          "text": [
            "Decision Tree:\n",
            "Training Accuracy: 0.9412378813665305\n",
            "Testing Accuracy: 0.9411820678892914\n",
            "Precision: 0.8991941904404054\n",
            "Recall: 0.9411820678892914\n",
            "F1-score: 0.9181997418235335\n",
            "\n"
          ]
        }
      ]
    },
    {
      "cell_type": "code",
      "source": [
        "models = ['Logistic Regression', 'KNN', 'Decision Tree']\n",
        "metrics = ['Precision', 'Recall', 'F1-score']\n",
        "x = np.arange(len(models))"
      ],
      "metadata": {
        "id": "wI97oSwaP_KC"
      },
      "execution_count": null,
      "outputs": []
    },
    {
      "cell_type": "code",
      "source": [
        "accuracy_values = [accuracy_lr_test, accuracy_knn_test, accuracy_dt_test]\n",
        "precision_values = [precision_lr_test, precision_knn_test, precision_dt_test]\n",
        "recall_values = [recall_lr_test, recall_knn_test, recall_dt_test]\n",
        "f1_values = [f1_lr_test, f1_knn_test, f1_dt_test]"
      ],
      "metadata": {
        "id": "lewR0Tn7QC5z"
      },
      "execution_count": null,
      "outputs": []
    },
    {
      "cell_type": "code",
      "source": [
        "import matplotlib.pyplot as plt"
      ],
      "metadata": {
        "id": "VZCiAN6fScCZ"
      },
      "execution_count": null,
      "outputs": []
    },
    {
      "cell_type": "code",
      "source": [
        "plt.plot(models, accuracy_values, marker='o', color='orange', linestyle='-')\n",
        "plt.xlabel('Models')\n",
        "plt.ylabel('Accuracy')\n",
        "plt.title('Accuracy by Model')\n",
        "plt.grid(True)\n",
        "plt.xticks(rotation=45)\n",
        "plt.tight_layout()\n",
        "plt.show()"
      ],
      "metadata": {
        "colab": {
          "base_uri": "https://localhost:8080/",
          "height": 487
        },
        "id": "xN5HU2O8WvK8",
        "outputId": "5f690dc4-78bc-4669-a3a8-e30d12e24c0a"
      },
      "execution_count": null,
      "outputs": [
        {
          "output_type": "display_data",
          "data": {
            "text/plain": [
              "<Figure size 640x480 with 1 Axes>"
            ],
            "image/png": "[encoded data removed]"
          },
          "metadata": {}
        }
      ]
    },
    {
      "cell_type": "code",
      "source": [
        "plt.bar(x, precision_values, color='skyblue')\n",
        "plt.xlabel('Models')\n",
        "plt.ylabel('Precision')\n",
        "plt.xticks(x, models)\n",
        "plt.title('Precision by Model')"
      ],
      "metadata": {
        "colab": {
          "base_uri": "https://localhost:8080/",
          "height": 489
        },
        "id": "cacm_mKUQYs1",
        "outputId": "68664f1c-f3c7-4485-fa69-b15ba520aea9"
      },
      "execution_count": null,
      "outputs": [
        {
          "output_type": "execute_result",
          "data": {
            "text/plain": [
              "Text(0.5, 1.0, 'Precision by Model')"
            ]
          },
          "metadata": {},
          "execution_count": 76
        },
        {
          "output_type": "display_data",
          "data": {
            "text/plain": [
              "<Figure size 640x480 with 1 Axes>"
            ],
            "image/png": "[encoded data removed]"
          },
          "metadata": {}
        }
      ]
    },
    {
      "cell_type": "code",
      "source": [
        "plt.bar(x, recall_values, color='lightgreen')\n",
        "plt.xlabel('Models')\n",
        "plt.ylabel('Recall')\n",
        "plt.xticks(x, models)\n",
        "plt.title('Recall by Model')"
      ],
      "metadata": {
        "colab": {
          "base_uri": "https://localhost:8080/",
          "height": 489
        },
        "id": "IOe3hk6sXNcy",
        "outputId": "f07e5424-73a7-4565-f6bc-bd017c37600e"
      },
      "execution_count": null,
      "outputs": [
        {
          "output_type": "execute_result",
          "data": {
            "text/plain": [
              "Text(0.5, 1.0, 'Recall by Model')"
            ]
          },
          "metadata": {},
          "execution_count": 91
        },
        {
          "output_type": "display_data",
          "data": {
            "text/plain": [
              "<Figure size 640x480 with 1 Axes>"
            ],
            "image/png": "[encoded data removed]"
          },
          "metadata": {}
        }
      ]
    },
    {
      "cell_type": "code",
      "source": [
        "plt.plot(models, f1_values, marker='o', color='salmon', linestyle='-')\n",
        "plt.xlabel('Models')\n",
        "plt.ylabel('F1-score')\n",
        "plt.title('F1-score by Model')\n",
        "plt.grid(True)\n",
        "plt.show()"
      ],
      "metadata": {
        "colab": {
          "base_uri": "https://localhost:8080/",
          "height": 472
        },
        "id": "wemDK-AKXwZ_",
        "outputId": "ff9aee3b-b7c4-4c55-ed23-f2f63723802c"
      },
      "execution_count": null,
      "outputs": [
        {
          "output_type": "display_data",
          "data": {
            "text/plain": [
              "<Figure size 640x480 with 1 Axes>"
            ],
            "image/png": "[encoded data removed]"
          },
          "metadata": {}
        }
      ]
    },
    {
      "cell_type": "code",
      "source": [
        "models = ['Logistic Regression', 'K-Nearest Neighbors', 'Decision Tree']\n",
        "accuracies = [0.9315588147603068, 0.9398118485907675, 0.984007764576025]\n",
        "plt.bar(models, accuracies, color='yellow')\n",
        "plt.title('Comparitive analysis (GridSearchCV)')\n",
        "plt.xlabel('Model')\n",
        "plt.ylabel('Accuracy')\n",
        "plt.show()"
      ],
      "metadata": {
        "id": "usq92T8zkzRo",
        "colab": {
          "base_uri": "https://localhost:8080/",
          "height": 472
        },
        "outputId": "add6caeb-59e7-482f-cab5-241a58f07bcf"
      },
      "execution_count": null,
      "outputs": [
        {
          "output_type": "display_data",
          "data": {
            "text/plain": [
              "<Figure size 640x480 with 1 Axes>"
            ],
            "image/png": "[encoded data removed]"
          },
          "metadata": {}
        }
      ]
    }
  ]
}